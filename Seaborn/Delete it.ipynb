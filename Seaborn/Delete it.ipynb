{
 "cells": [
  {
   "cell_type": "code",
   "execution_count": 7,
   "id": "9e6d8b8c",
   "metadata": {},
   "outputs": [],
   "source": [
    "my_list = [\"akuof\", \"byyii\", \"dlust\"]"
   ]
  },
  {
   "cell_type": "code",
   "execution_count": 8,
   "id": "1d123b64",
   "metadata": {},
   "outputs": [
    {
     "data": {
      "text/plain": [
       "['akuof', 'byyii', 'dlust']"
      ]
     },
     "execution_count": 8,
     "metadata": {},
     "output_type": "execute_result"
    }
   ],
   "source": [
    "sorted(my_list)"
   ]
  },
  {
   "cell_type": "code",
   "execution_count": 9,
   "id": "50ef0d24",
   "metadata": {},
   "outputs": [],
   "source": [
    "new_list = [2,3,224,54,2343,23,1]"
   ]
  },
  {
   "cell_type": "code",
   "execution_count": 10,
   "id": "f5de027c",
   "metadata": {},
   "outputs": [
    {
     "data": {
      "text/plain": [
       "[1, 2, 3, 23, 54, 224, 2343]"
      ]
     },
     "execution_count": 10,
     "metadata": {},
     "output_type": "execute_result"
    }
   ],
   "source": [
    "sorted(new_list)"
   ]
  },
  {
   "cell_type": "code",
   "execution_count": null,
   "id": "8e36c1d5",
   "metadata": {},
   "outputs": [],
   "source": []
  }
 ],
 "metadata": {
  "kernelspec": {
   "display_name": "Python 3 (ipykernel)",
   "language": "python",
   "name": "python3"
  },
  "language_info": {
   "codemirror_mode": {
    "name": "ipython",
    "version": 3
   },
   "file_extension": ".py",
   "mimetype": "text/x-python",
   "name": "python",
   "nbconvert_exporter": "python",
   "pygments_lexer": "ipython3",
   "version": "3.9.7"
  }
 },
 "nbformat": 4,
 "nbformat_minor": 5
}
